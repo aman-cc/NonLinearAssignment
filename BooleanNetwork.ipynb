{
 "cells": [
  {
   "cell_type": "code",
   "execution_count": 131,
   "metadata": {},
   "outputs": [],
   "source": [
    "N = 4   # Number of nodes\n",
    "K = 1   # Number of inputs per node\n",
    "\n",
    "P = [ [2], [0], [1], [1]]  # Contains parents of ith node; each P[i] needs to be of size K\n",
    "\n",
    "# F contains update function[i] for node[i]; each F[i] needs to be of size 2^K\n",
    "F = [ [1, 1],\n",
    "      [1, 0],\n",
    "      [0, 1],\n",
    "      [0, 1] ]"
   ]
  },
  {
   "cell_type": "code",
   "execution_count": 132,
   "metadata": {},
   "outputs": [],
   "source": [
    "N = 4   # Number of nodes\n",
    "K = 2   # Number of inputs per node\n",
    "\n",
    "P = [ [2,3], [0,1], [1,3], [1,2]]  # Contains parents of ith node; each P[i] needs to be of size K\n",
    "\n",
    "#P = [ [2,4], [0,6], [1,7], [1,6], [1,3], [4,7], [4,5], [2,5]]  # Contains parents of ith node; each P[i] needs to be of size K\n",
    "\n",
    "# F contains update function[i] for node[i]; each F[i] needs to be of size 2^K\n",
    "F = [ [1,1,1,1],\n",
    "      [0,0,0,0],\n",
    "      [0,0,1,1],\n",
    "      [1,1,0,0], ]"
   ]
  },
  {
   "cell_type": "code",
   "execution_count": 133,
   "metadata": {},
   "outputs": [],
   "source": [
    "N = 5   # Number of nodes\n",
    "K = 3   # Number of inputs per node\n",
    "\n",
    "P = [ [2,3,4], [0,2,4], [1,2,3], [0,2,3], [1,2,4] ]  # Contains parents of ith node; each P[i] needs to be of size K\n",
    "\n",
    "F = [ [1,0,1,1,0,1,0,1],\n",
    "      [0,1,0,0,1,0,1,0],\n",
    "      [0,1,0,1,1,1,0,1],\n",
    "      [1,1,0,0,0,1,0,0],\n",
    "      [0,1,0,1,1,1,0,0], ]"
   ]
  },
  {
   "cell_type": "code",
   "execution_count": 134,
   "metadata": {},
   "outputs": [],
   "source": [
    "def evolution(node):\n",
    "    states = []\n",
    "    states.append( node )\n",
    "    while 1:\n",
    "        nextnode = []\n",
    "        for i in range(N):\n",
    "            # Generate decimal of parent\n",
    "            temp = []\n",
    "            for j in range(len(P[i])):\n",
    "                temp.append( node[P[i][j]] )\n",
    "            p_value = bin2dec(temp)\n",
    "            nextnode.append( F[i][ p_value ] )\n",
    "        node = nextnode\n",
    "        if node in states:\n",
    "            states.append(node)\n",
    "            break\n",
    "        states.append(node)\n",
    "    return states"
   ]
  },
  {
   "cell_type": "code",
   "execution_count": 135,
   "metadata": {},
   "outputs": [],
   "source": [
    "def decimalToBinary(n):  \n",
    "    return bin(n).replace(\"0b\", \"\")\n",
    "\n",
    "def dec2bin(num, l):\n",
    "    s1 = decimalToBinary(num)\n",
    "    s2 = \"\"\n",
    "    for i in range(l - len(s1)):\n",
    "        s2 += \"0\"\n",
    "    s1 = s2 + s1\n",
    "    arr  = []\n",
    "    for i in range(len(s1)):\n",
    "        arr.append(int(s1[i]))\n",
    "    return arr\n",
    "\n",
    "def bin2dec(arr):\n",
    "    l = len(arr)\n",
    "    out = 0\n",
    "    for i in range(l):\n",
    "        out += arr[i] * ( 2 ** (l-i-1) )\n",
    "    return out\n",
    "\n",
    "l = len( decimalToBinary(2**N - 1))\n",
    "total_states = []\n",
    "for i in range(2**N):\n",
    "    total_states.append(dec2bin(i , l))"
   ]
  },
  {
   "cell_type": "code",
   "execution_count": 136,
   "metadata": {
    "tags": [
     "outputPrepend",
     "outputPrepend",
     "outputPrepend",
     "outputPrepend",
     "outputPrepend",
     "outputPrepend",
     "outputPrepend",
     "outputPrepend"
    ]
   },
   "outputs": [],
   "source": [
    "evol = []\n",
    "for i in range(len(total_states)):\n",
    "    evol.append(evolution(total_states[i]))\n",
    "evol2 = []\n",
    "for i in range(len(evol)):\n",
    "    temp2 = []\n",
    "    for j in range(len(evol[i])):\n",
    "        temp2.append( bin2dec(evol[i][j]))\n",
    "    evol2.append(temp2)"
   ]
  },
  {
   "cell_type": "code",
   "execution_count": 137,
   "metadata": {},
   "outputs": [
    {
     "output_type": "execute_result",
     "data": {
      "text/plain": "[[0, 18, 30, 12, 0],\n [1, 11, 31, 20, 8, 23, 21, 17, 1],\n [2, 22, 12, 0, 18, 30, 12],\n [3, 31, 20, 8, 23, 21, 17, 1, 11, 31],\n [4, 0, 18, 30, 12, 0],\n [5, 17, 1, 11, 31, 20, 8, 23, 21, 17],\n [6, 4, 0, 18, 30, 12, 0],\n [7, 21, 17, 1, 11, 31, 20, 8, 23, 21],\n [8, 23, 21, 17, 1, 11, 31, 20, 8],\n [9, 15, 20, 8, 23, 21, 17, 1, 11, 31, 20],\n [10, 23, 21, 17, 1, 11, 31, 20, 8, 23],\n [11, 31, 20, 8, 23, 21, 17, 1, 11],\n [12, 0, 18, 30, 12],\n [13, 16, 24, 29, 16],\n [14, 4, 0, 18, 30, 12, 0],\n [15, 20, 8, 23, 21, 17, 1, 11, 31, 20],\n [16, 24, 29, 16],\n [17, 1, 11, 31, 20, 8, 23, 21, 17],\n [18, 30, 12, 0, 18],\n [19, 23, 21, 17, 1, 11, 31, 20, 8, 23],\n [20, 8, 23, 21, 17, 1, 11, 31, 20],\n [21, 17, 1, 11, 31, 20, 8, 23, 21],\n [22, 12, 0, 18, 30, 12],\n [23, 21, 17, 1, 11, 31, 20, 8, 23],\n [24, 29, 16, 24],\n [25, 5, 17, 1, 11, 31, 20, 8, 23, 21, 17],\n [26, 31, 20, 8, 23, 21, 17, 1, 11, 31],\n [27, 23, 21, 17, 1, 11, 31, 20, 8, 23],\n [28, 8, 23, 21, 17, 1, 11, 31, 20, 8],\n [29, 16, 24, 29],\n [30, 12, 0, 18, 30],\n [31, 20, 8, 23, 21, 17, 1, 11, 31]]"
     },
     "metadata": {},
     "execution_count": 137
    }
   ],
   "source": [
    "evol2   # View network evolution"
   ]
  },
  {
   "cell_type": "code",
   "execution_count": 138,
   "metadata": {},
   "outputs": [
    {
     "output_type": "stream",
     "name": "stdout",
     "text": "15 attractors found are [0, 18, 30, 12, 1, 11, 31, 20, 8, 23, 21, 17, 16, 24, 29]\n13 Garden of Eden states found are [2, 3, 6, 7, 9, 10, 13, 14, 19, 25, 26, 27, 28]\n"
    }
   ],
   "source": [
    "attractor= []\n",
    "for x in evol2:\n",
    "    if x[0] == x[-1]:\n",
    "        attractor.append(x)\n",
    "attractor_list = []\n",
    "\n",
    "for x in attractor:\n",
    "    for y in x:\n",
    "        if y not in attractor_list:\n",
    "            attractor_list.append(y)\n",
    "            non_goe_states = []\n",
    "for x in evol2:\n",
    "    for y in x[1:-1]:\n",
    "        if y not in non_goe_states:\n",
    "            non_goe_states.append(y)\n",
    "\n",
    "states = []\n",
    "goe_states = []\n",
    "for i in range(2**N):\n",
    "    states.append(i)\n",
    "for x in states:\n",
    "    if x not in non_goe_states:\n",
    "        goe_states.append(x)\n",
    "\n",
    "if attractor_list != []:\n",
    "    print(len(attractor_list),\"attractors found are\", attractor_list)\n",
    "else:\n",
    "    print(\"No attractor found\")\n",
    "\n",
    "if goe_states != []:\n",
    "    print(len(goe_states),\"Garden of Eden states found are\", goe_states)\n",
    "else:\n",
    "    print(\"No Garden of Eden states found\")"
   ]
  }
 ],
 "metadata": {
  "language_info": {
   "codemirror_mode": {
    "name": "ipython",
    "version": 3
   },
   "file_extension": ".py",
   "mimetype": "text/x-python",
   "name": "python",
   "nbconvert_exporter": "python",
   "pygments_lexer": "ipython3",
   "version": "3.8.2-final"
  },
  "orig_nbformat": 2,
  "kernelspec": {
   "name": "python38164bit47583f44c44e49cbafc47f7240afa1f1",
   "display_name": "Python 3.8.1 64-bit"
  }
 },
 "nbformat": 4,
 "nbformat_minor": 2
}